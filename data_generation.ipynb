{
  "nbformat": 4,
  "nbformat_minor": 0,
  "metadata": {
    "colab": {
      "name": "data-generation.ipynb",
      "provenance": [],
      "collapsed_sections": [],
      "toc_visible": true,
      "mount_file_id": "19ACeZbjEiusgPr4yqOgSLlupKPJG1llD",
      "authorship_tag": "ABX9TyNDY3NAg8fSUFZHrGoSROzQ",
      "include_colab_link": true
    },
    "kernelspec": {
      "name": "python3",
      "display_name": "Python 3"
    }
  },
  "cells": [
    {
      "cell_type": "markdown",
      "metadata": {
        "id": "view-in-github",
        "colab_type": "text"
      },
      "source": [
        "<a href=\"https://colab.research.google.com/github/Yasaman-A/Assign1-1.0/blob/master/data_generation.ipynb\" target=\"_parent\"><img src=\"https://colab.research.google.com/assets/colab-badge.svg\" alt=\"Open In Colab\"/></a>"
      ]
    },
    {
      "cell_type": "code",
      "metadata": {
        "id": "OwJMtHDrfMTE",
        "colab_type": "code",
        "colab": {}
      },
      "source": [
        "!pip install --quiet --upgrade tensorflow_federated"
      ],
      "execution_count": null,
      "outputs": []
    },
    {
      "cell_type": "code",
      "metadata": {
        "id": "NxJOGo5ffQoh",
        "colab_type": "code",
        "colab": {
          "base_uri": "https://localhost:8080/",
          "height": 34
        },
        "outputId": "2b3bdc93-b43d-463a-bb44-7a22701983a1"
      },
      "source": [
        "import collections\n",
        "import functools\n",
        "import os\n",
        "import time\n",
        "\n",
        "import numpy as np\n",
        "import tensorflow as tf\n",
        "import tensorflow_federated as tff\n",
        "\n",
        "tf.compat.v1.enable_v2_behavior()\n",
        "\n",
        "np.random.seed(0)\n",
        "\n",
        "# Test the TFF is working:\n",
        "tff.federated_computation(lambda: 'Hello, World!')()"
      ],
      "execution_count": null,
      "outputs": [
        {
          "output_type": "execute_result",
          "data": {
            "text/plain": [
              "b'Hello, World!'"
            ]
          },
          "metadata": {
            "tags": []
          },
          "execution_count": 196
        }
      ]
    },
    {
      "cell_type": "markdown",
      "metadata": {
        "id": "NO-RXTeevUlG",
        "colab_type": "text"
      },
      "source": [
        "# Data Generation\n",
        "Required knowledge: \n",
        "1. TF Data Set\n",
        "2. TFF Simulation APIs\n",
        "3. Seeing how simulation data is used in TFF examples\n",
        "4. What is IID and Non-IDD Data\n",
        "5. ClientData class in TFF Github\n",
        "6. Python Generators"
      ]
    },
    {
      "cell_type": "markdown",
      "metadata": {
        "id": "XCRTQJHZoK28",
        "colab_type": "text"
      },
      "source": [
        "The following path should be changed based on your own google drive folder structure to point to where your csv file is. Google Drive needs to be mounted first."
      ]
    },
    {
      "cell_type": "code",
      "metadata": {
        "id": "v6XcVhdR1vbR",
        "colab_type": "code",
        "colab": {
          "base_uri": "https://localhost:8080/",
          "height": 34
        },
        "outputId": "6ca298cc-52f7-499f-87c5-d4e96752f136"
      },
      "source": [
        "cd '/content/drive/My Drive/workspace/Federated/'"
      ],
      "execution_count": null,
      "outputs": [
        {
          "output_type": "stream",
          "text": [
            "/content/drive/My Drive/workspace/Federated\n"
          ],
          "name": "stdout"
        }
      ]
    },
    {
      "cell_type": "code",
      "metadata": {
        "id": "vHFX5JqGxpgp",
        "colab_type": "code",
        "colab": {}
      },
      "source": [
        "import pandas as pd\n",
        "import tensorflow as tf\n",
        "import tensorflow_federated as tff\n",
        "\n",
        "# A dummy dataset - data file exist in my google drive. \n",
        "# You can see the file format here: https://drive.google.com/file/d/11Y_5o-jPgmkauYYsts8GhXj__SLkaqJk/view?usp=sharing\n",
        "csv_url = \"data-simple.csv\"\n",
        "\n",
        "df = pd.read_csv(csv_url, na_values=(\"?\",))\n",
        "\n",
        "client_id_colname = 'id' # the column that represents client ID\n",
        "SHUFFLE_BUFFER = 1000\n",
        "NUM_EPOCHS = 1\n",
        "\n",
        "# split client id into train and test clients\n",
        "client_ids = df[client_id_colname].unique()\n",
        "client_ids = pd.DataFrame(data=client_ids)\n",
        "\n",
        "from sklearn.model_selection import train_test_split\n",
        "train, test = train_test_split(client_ids, test_size=0.1)"
      ],
      "execution_count": null,
      "outputs": []
    },
    {
      "cell_type": "code",
      "metadata": {
        "id": "BXfO5jOM7_Tf",
        "colab_type": "code",
        "colab": {
          "base_uri": "https://localhost:8080/",
          "height": 34
        },
        "outputId": "e7f7e8c2-513f-44cd-ed3e-f2444a0eb248"
      },
      "source": [
        "train_client_ids = train[0].values.tolist()\n",
        "train_client_ids"
      ],
      "execution_count": null,
      "outputs": [
        {
          "output_type": "execute_result",
          "data": {
            "text/plain": [
              "[1, 2, 4, 5]"
            ]
          },
          "metadata": {
            "tags": []
          },
          "execution_count": 201
        }
      ]
    },
    {
      "cell_type": "code",
      "metadata": {
        "id": "yqeHKJnU8SUx",
        "colab_type": "code",
        "colab": {
          "base_uri": "https://localhost:8080/",
          "height": 34
        },
        "outputId": "0a51ef62-c272-403d-cd4f-681028a6f3f1"
      },
      "source": [
        "test_client_ids = test[0].values.tolist()\n",
        "test_client_ids"
      ],
      "execution_count": null,
      "outputs": [
        {
          "output_type": "execute_result",
          "data": {
            "text/plain": [
              "[3]"
            ]
          },
          "metadata": {
            "tags": []
          },
          "execution_count": 203
        }
      ]
    },
    {
      "cell_type": "code",
      "metadata": {
        "id": "oUTMJ_1MyiGZ",
        "colab_type": "code",
        "colab": {}
      },
      "source": [
        "def create_tf_dataset_for_client_fn(client_id):\n",
        "  # a function which takes a client_id and returns a\n",
        "  # tf.data.Dataset for that client\n",
        "  client_data = df[df[client_id_colname] == client_id]\n",
        "  dataset = tf.data.Dataset.from_tensor_slices(client_data.to_dict('list'))\n",
        "  dataset = dataset.shuffle(SHUFFLE_BUFFER).batch(1).repeat(NUM_EPOCHS)\n",
        "  return dataset"
      ],
      "execution_count": null,
      "outputs": []
    },
    {
      "cell_type": "code",
      "metadata": {
        "id": "gcWRd3Kb0eOS",
        "colab_type": "code",
        "colab": {}
      },
      "source": [
        "train_data = tff.simulation.ClientData.from_clients_and_fn(\n",
        "        client_ids=train_client_ids,\n",
        "        create_tf_dataset_for_client_fn=create_tf_dataset_for_client_fn\n",
        "    )\n",
        "test_data = tff.simulation.ClientData.from_clients_and_fn(\n",
        "        client_ids=test_client_ids,\n",
        "        create_tf_dataset_for_client_fn=create_tf_dataset_for_client_fn\n",
        "    )"
      ],
      "execution_count": null,
      "outputs": []
    },
    {
      "cell_type": "code",
      "metadata": {
        "id": "ABXfDChWSdAR",
        "colab_type": "code",
        "colab": {
          "base_uri": "https://localhost:8080/",
          "height": 34
        },
        "outputId": "03dcddce-4901-4f01-c582-051c1113f92e"
      },
      "source": [
        "dd = train_data.create_tf_dataset_from_all_clients()\n",
        "\n",
        "dd"
      ],
      "execution_count": null,
      "outputs": [
        {
          "output_type": "execute_result",
          "data": {
            "text/plain": [
              "<FlatMapDataset shapes: {id: (None,), a: (None,), b: (None,)}, types: {id: tf.int32, a: tf.int32, b: tf.int32}>"
            ]
          },
          "metadata": {
            "tags": []
          },
          "execution_count": 206
        }
      ]
    },
    {
      "cell_type": "code",
      "metadata": {
        "id": "tGymLMhU0hSE",
        "colab_type": "code",
        "colab": {
          "base_uri": "https://localhost:8080/",
          "height": 71
        },
        "outputId": "d58ff961-5bee-4f8a-906f-12d6815ae386"
      },
      "source": [
        "example_dataset = train_data.create_tf_dataset_for_client(\n",
        "        train_data.client_ids[1]\n",
        "    )\n",
        "\n",
        "ed_iter = iter(example_dataset)\n",
        "\n",
        "#len(list(ed_iter))\n",
        "\n",
        "example_element = next(ed_iter)\n",
        "print(example_element)\n",
        "\n",
        "example_element = next(ed_iter)\n",
        "print(example_element)"
      ],
      "execution_count": null,
      "outputs": [
        {
          "output_type": "stream",
          "text": [
            "{'id': <tf.Tensor: shape=(1,), dtype=int32, numpy=array([2], dtype=int32)>, 'a': <tf.Tensor: shape=(1,), dtype=int32, numpy=array([2222], dtype=int32)>, 'b': <tf.Tensor: shape=(1,), dtype=int32, numpy=array([0], dtype=int32)>}\n",
            "{'id': <tf.Tensor: shape=(1,), dtype=int32, numpy=array([2], dtype=int32)>, 'a': <tf.Tensor: shape=(1,), dtype=int32, numpy=array([222], dtype=int32)>, 'b': <tf.Tensor: shape=(1,), dtype=int32, numpy=array([0], dtype=int32)>}\n"
          ],
          "name": "stdout"
        }
      ]
    },
    {
      "cell_type": "code",
      "metadata": {
        "id": "PXhOQgGK6wtt",
        "colab_type": "code",
        "colab": {}
      },
      "source": [
        "import pickle\n",
        "pickle.dump(train_data, open('train_yas.h5', 'wb'))\n",
        "pickle.dump(train_data, open('test_yas.h5', 'wb'))\n",
        "\n",
        "another_data = pickle.load(open('train_yas.h5', 'rb'))"
      ],
      "execution_count": null,
      "outputs": []
    },
    {
      "cell_type": "code",
      "metadata": {
        "id": "kKC-NraK8J6J",
        "colab_type": "code",
        "colab": {}
      },
      "source": [
        "import tarfile\n",
        "tar = tarfile.open(\"sample_yas.tar.gz\", \"w:gz\")\n",
        "for name in [\"train_yas.h5\", \"test_yas.h5\"]:\n",
        "    tar.add(name)\n",
        "tar.close()"
      ],
      "execution_count": null,
      "outputs": []
    },
    {
      "cell_type": "code",
      "metadata": {
        "id": "x5ov9dWe6243",
        "colab_type": "code",
        "colab": {
          "base_uri": "https://localhost:8080/",
          "height": 54
        },
        "outputId": "d593c76d-21ab-4505-cc31-2c1518cbcc16"
      },
      "source": [
        "example2_dataset = another_data.create_tf_dataset_for_client(\n",
        "        another_data.client_ids[0])\n",
        "\n",
        "ed_iter2 = iter(example2_dataset)\n",
        "\n",
        "example2_element = next(ed_iter2)\n",
        "print(example2_element)"
      ],
      "execution_count": null,
      "outputs": [
        {
          "output_type": "stream",
          "text": [
            "{'id': <tf.Tensor: shape=(1,), dtype=int32, numpy=array([1], dtype=int32)>, 'a': <tf.Tensor: shape=(1,), dtype=int32, numpy=array([1], dtype=int32)>, 'b': <tf.Tensor: shape=(1,), dtype=int32, numpy=array([0], dtype=int32)>}\n"
          ],
          "name": "stdout"
        }
      ]
    },
    {
      "cell_type": "markdown",
      "metadata": {
        "id": "qDMVypDQKhbL",
        "colab_type": "text"
      },
      "source": [
        "Build and view iid data:"
      ]
    },
    {
      "cell_type": "code",
      "metadata": {
        "id": "4U3kDujhdoaU",
        "colab_type": "code",
        "colab": {}
      },
      "source": [
        "i_data = train_data\n",
        "all_new_clients = iter(tff.simulation.datasets.build_synthethic_iid_datasets(i_data, 6))\n",
        "# https://wiki.python.org/moin/Generators"
      ],
      "execution_count": null,
      "outputs": []
    },
    {
      "cell_type": "code",
      "metadata": {
        "id": "ARCorcOid79I",
        "colab_type": "code",
        "colab": {}
      },
      "source": [
        "client_0 = next(all_new_clients)\n",
        "client_1 = next(all_new_clients)"
      ],
      "execution_count": null,
      "outputs": []
    },
    {
      "cell_type": "code",
      "metadata": {
        "id": "uIkIiUGqonIu",
        "colab_type": "code",
        "colab": {
          "base_uri": "https://localhost:8080/",
          "height": 119
        },
        "outputId": "963cf6a7-9c9d-46fb-df6c-e11c013b3851"
      },
      "source": [
        "ds = tf.data.Dataset.zip((client_0['id'], client_0['a'], client_0['b']))\n",
        "\n",
        "for c in ds:\n",
        "    print(c[2])"
      ],
      "execution_count": null,
      "outputs": [
        {
          "output_type": "stream",
          "text": [
            "tf.Tensor([0], shape=(1,), dtype=int32)\n",
            "tf.Tensor([7], shape=(1,), dtype=int32)\n",
            "tf.Tensor([7], shape=(1,), dtype=int32)\n",
            "tf.Tensor([0], shape=(1,), dtype=int32)\n",
            "tf.Tensor([7], shape=(1,), dtype=int32)\n",
            "tf.Tensor([7], shape=(1,), dtype=int32)\n"
          ],
          "name": "stdout"
        }
      ]
    },
    {
      "cell_type": "code",
      "metadata": {
        "id": "kX09CjuPd-WF",
        "colab_type": "code",
        "colab": {
          "base_uri": "https://localhost:8080/",
          "height": 221
        },
        "outputId": "5861d499-e96e-41d6-a634-e4852c0e92ae"
      },
      "source": [
        "for c in client_0['a'] :\n",
        "    print(c)\n",
        "    print(type(c))"
      ],
      "execution_count": null,
      "outputs": [
        {
          "output_type": "stream",
          "text": [
            "tf.Tensor([10], shape=(1,), dtype=int32)\n",
            "<class 'tensorflow.python.framework.ops.EagerTensor'>\n",
            "tf.Tensor([2], shape=(1,), dtype=int32)\n",
            "<class 'tensorflow.python.framework.ops.EagerTensor'>\n",
            "tf.Tensor([22], shape=(1,), dtype=int32)\n",
            "<class 'tensorflow.python.framework.ops.EagerTensor'>\n",
            "tf.Tensor([222], shape=(1,), dtype=int32)\n",
            "<class 'tensorflow.python.framework.ops.EagerTensor'>\n",
            "tf.Tensor([55], shape=(1,), dtype=int32)\n",
            "<class 'tensorflow.python.framework.ops.EagerTensor'>\n",
            "tf.Tensor([22], shape=(1,), dtype=int32)\n",
            "<class 'tensorflow.python.framework.ops.EagerTensor'>\n"
          ],
          "name": "stdout"
        }
      ]
    },
    {
      "cell_type": "code",
      "metadata": {
        "id": "pUHJ2BvPSDgI",
        "colab_type": "code",
        "colab": {}
      },
      "source": [
        "class customClientData(ClientData):\n",
        "    def __init__(self, non_iid_data, per_client_data_size, number_user):\n",
        "        self.ds = dict()\n",
        "        all_new_clients = iter(tff.simulation.datasets.build_synthethic_iid_datasets(non_iid_data, per_client_data_size))\n",
        "        for user in range(number_user):\n",
        "            client = next(all_new_clients)\n",
        "            print(client)\n",
        "            #print('------------------')\n",
        "            self.ds[user] = client\n",
        "\n",
        "    @property\n",
        "    def client_ids(self) -> List[str]:\n",
        "        return list(self.ds.keys())\n",
        "\n",
        "    def create_tf_dataset_for_client(self, client_id: str) -> tf.data.Dataset:\n",
        "        return self.ds[client_id]\n",
        "\n",
        "    @property\n",
        "    def element_type_structure(self):\n",
        "#        return tf.TensorSpec(shape=(3,), dtype=tf.dtypes.int32)\n",
        "        return self.ds[0].element_spec\n"
      ],
      "execution_count": null,
      "outputs": []
    },
    {
      "cell_type": "code",
      "metadata": {
        "id": "iJOdUX4XssMV",
        "colab_type": "code",
        "colab": {}
      },
      "source": [
        "def convert(client):\n",
        "    res = []\n",
        "    zipped_client = tf.data.Dataset.zip((client['id'], client['a'], client['b']))\n",
        "    for c in zipped_client:\n",
        "        res.append({'id': c[0], 'a': c[1], 'b': c[2]})\n",
        "    return res"
      ],
      "execution_count": null,
      "outputs": []
    },
    {
      "cell_type": "code",
      "metadata": {
        "id": "eVyVTOniO3T4",
        "colab_type": "code",
        "colab": {
          "base_uri": "https://localhost:8080/",
          "height": 71
        },
        "outputId": "979367b7-18de-49b5-828f-8ff766efedd8"
      },
      "source": [
        "#Question: How can I run create_tf_dataset_for_client based on the iid datasets we created?\n",
        "iid_all_Client_dataset = customClientData(train_data, 3, 2)\n",
        "#iid_all_Client_dataset.client_ids"
      ],
      "execution_count": null,
      "outputs": [
        {
          "output_type": "stream",
          "text": [
            "{'id': <_VariantDataset shapes: (None,), types: tf.int32>, 'a': <_VariantDataset shapes: (None,), types: tf.int32>, 'b': <_VariantDataset shapes: (None,), types: tf.int32>}\n",
            "{'id': <_VariantDataset shapes: (None,), types: tf.int32>, 'a': <_VariantDataset shapes: (None,), types: tf.int32>, 'b': <_VariantDataset shapes: (None,), types: tf.int32>}\n"
          ],
          "name": "stdout"
        }
      ]
    },
    {
      "cell_type": "code",
      "metadata": {
        "id": "h2ZSKFhTxRM_",
        "colab_type": "code",
        "colab": {}
      },
      "source": [
        "iid_all_Client_dataset.element_type_structure()"
      ],
      "execution_count": null,
      "outputs": []
    },
    {
      "cell_type": "code",
      "metadata": {
        "id": "_RQ9LkuvsjHf",
        "colab_type": "code",
        "colab": {
          "base_uri": "https://localhost:8080/",
          "height": 34
        },
        "outputId": "ee772a96-8ebe-4642-e02c-35126c051ff1"
      },
      "source": [
        "orig_iid_client_dataset = iid_all_Client_dataset.create_tf_dataset_for_client(\n",
        "        iid_all_Client_dataset.client_ids[1]\n",
        ")\n",
        "\n",
        "##\n",
        "example_element = next(iter(orig_iid_client_dataset))\n",
        "print(example_element)"
      ],
      "execution_count": null,
      "outputs": [
        {
          "output_type": "stream",
          "text": [
            "id\n"
          ],
          "name": "stdout"
        }
      ]
    },
    {
      "cell_type": "code",
      "metadata": {
        "id": "y1ZPKxcOs9s-",
        "colab_type": "code",
        "colab": {
          "base_uri": "https://localhost:8080/",
          "height": 119
        },
        "outputId": "f019aa0e-d04f-4075-d81d-7b8ca60ac875"
      },
      "source": [
        "iid_client_dataset = convert(orig_iid_client_dataset)\n",
        "\n",
        "for data in iid_client_dataset:\n",
        "    print(data['id'])"
      ],
      "execution_count": null,
      "outputs": [
        {
          "output_type": "stream",
          "text": [
            "tf.Tensor([2], shape=(1,), dtype=int32)\n",
            "tf.Tensor([1], shape=(1,), dtype=int32)\n",
            "tf.Tensor([2], shape=(1,), dtype=int32)\n",
            "tf.Tensor([1], shape=(1,), dtype=int32)\n",
            "tf.Tensor([4], shape=(1,), dtype=int32)\n",
            "tf.Tensor([2], shape=(1,), dtype=int32)\n"
          ],
          "name": "stdout"
        }
      ]
    },
    {
      "cell_type": "code",
      "metadata": {
        "id": "h3KyRlBJXh8P",
        "colab_type": "code",
        "colab": {}
      },
      "source": [
        "example_element = next(ed_iter)\n",
        "print(example_element)\n",
        "\n",
        "example_element = next(ed_iter)\n",
        "print(example_element)\n",
        "\n",
        "example_element = next(ed_iter)\n",
        "print(example_element)"
      ],
      "execution_count": null,
      "outputs": []
    },
    {
      "cell_type": "markdown",
      "metadata": {
        "id": "9gq0hMhRKeej",
        "colab_type": "text"
      },
      "source": [
        "## Parameterizing the data generation process\n",
        "Possible parameters (from the leaf project)\n",
        "\n",
        "* -s := 'iid' to sample in an i.i.d. manner, or 'niid' to sample in a non-i.i.d. manner; In the i.i.d. sampling scenario, each datapoint is equally likely to be sampled. Thus, all users have the same underlying distribution of data. In the non-i.i.d. sampling scenario, the underlying distribution of data for each user is consistent with the raw data. Since we assume that data distributions vary between user in the raw data, we refer to this sampling process as non-i.i.d.\n",
        "\n",
        "* --iu := number of users, if iid sampling; expressed as a fraction of the total number of users; default is 0.01\n",
        "\n",
        "* --sf := fraction of data to sample, written as a decimal; default is 0.1\n",
        "\n",
        "* -k := minimum number of samples per user\n",
        "\n",
        "* -t := 'user' to partition users into train-test groups, or 'sample' to partition each user's samples into train-test groups\n",
        "\n",
        "* --tf := fraction of data in training set, written as a decimal; default is 0.9\n",
        "\n",
        "* --smplseed := seed to be used before random sampling of data\n",
        "\n",
        "* --spltseed := seed to be used before random split of data"
      ]
    }
  ]
}